{
 "cells": [
  {
   "cell_type": "markdown",
   "metadata": {},
   "source": [
    "# Tutorial: Scalable ML 02"
   ]
  },
  {
   "cell_type": "markdown",
   "metadata": {},
   "source": [
    "To visit the original guide go to [link](https://tomaugspurger.github.io/scalable-ml-02).\n",
    "\n",
    "Scikit-learn supports out-of-core learning (fitting a model on a dataset that doesn't fit in RAM), through it's `partial_fit` API. See [here](http://scikit-learn.org/stable/modules/scaling_strategies.html#scaling-with-instances-using-out-of-core-learning).\n",
    "\n",
    "The basic idea is that, *for certain estimators*, learning can be done in batches. The estimator will see a batch, and then incrementally update whatever it's learning (the coefficients, for example).\n",
    "\n",
    "Unfortunately, the `partial_fit` API doesn't play that nicely with my favorite part of scikit-learn: [pipelines](http://scikit-learn.org/stable/modules/pipeline.html#pipeline). You would essentially need every chain in the pipeline to have an out-of-core `partial_fit` version, which isn't really feasible. Setting that aside, it wouldn't be great for a user, since working with generators of datasets is awkward.\n",
    "\n",
    "Fortunately, we *have* a great data containers for larger than memory arrays and dataframes: `dask.array` and `dask.dataframe`. We can\n",
    "\n",
    "1. Use dask for pre-processing data in an out-of-core manner\n",
    "2. Use scikit-learn to fit the actual model, out-of-core, using the `partial_fit` API\n",
    "\n",
    "The final piece of the puzzle is a nice little wrapper for these scikit-learn models that can be used in pipelines. I've started this in [dask-ml](https://github.com/dask/dask-ml). I'm eager to have additional contributions."
   ]
  },
  {
   "cell_type": "markdown",
   "metadata": {},
   "source": [
    "## Libraries"
   ]
  },
  {
   "cell_type": "code",
   "execution_count": 23,
   "metadata": {},
   "outputs": [],
   "source": [
    "import dask.array as da\n",
    "import dask.dataframe as dd\n",
    "\n",
    "from dask_ml.datasets import make_classification\n",
    "from dask_ml.linear_model import PartialSGDClassifier\n",
    "from dask_ml.preprocessing import StandardScaler\n",
    "\n",
    "from sklearn.pipeline import make_pipeline\n",
    "from dask.diagnostics import ResourceProfiler, Profiler, ProgressBar\n",
    "\n",
    "import string"
   ]
  },
  {
   "cell_type": "markdown",
   "metadata": {},
   "source": [
    "## Configurations"
   ]
  },
  {
   "cell_type": "code",
   "execution_count": 26,
   "metadata": {},
   "outputs": [
    {
     "data": {
      "text/html": [
       "<style>.container { width:100% !important; }</style>"
      ],
      "text/plain": [
       "<IPython.core.display.HTML object>"
      ]
     },
     "metadata": {},
     "output_type": "display_data"
    }
   ],
   "source": [
    "%matplotlib inline\n",
    "\n",
    "\"\"\"\n",
    "Jupyter Notebook\n",
    "\"\"\"\n",
    "from IPython.core.display import display, HTML\n",
    "display(HTML(\"<style>.container { width:100% !important; }</style>\"))"
   ]
  },
  {
   "cell_type": "markdown",
   "metadata": {},
   "source": [
    "## Data"
   ]
  },
  {
   "cell_type": "markdown",
   "metadata": {},
   "source": [
    "Let's make an `X` and `y` for classification. We'll make a bunch of arrays and store them on disk using HDF5.\n",
    "\n",
    "Let's generate a fake Dataset, replicate it 100 times, and store each block in a parquet file. This simulates a database or central store of a large Dataset."
   ]
  },
  {
   "cell_type": "code",
   "execution_count": 15,
   "metadata": {},
   "outputs": [],
   "source": [
    "X, y = make_classification(n_samples=1_000_000, chunks=500_000)\n",
    "\n",
    "for i in range(n_blocks):\n",
    "    X.to_dask_dataframe(columns=list(string.ascii_letters[:20])).to_parquet(f\"data_02/X-{i}.parq\")\n",
    "    y.to_dask_dataframe(columns=list('y')).to_parquet(f\"data_02/y-{i}.parq\")"
   ]
  },
  {
   "cell_type": "markdown",
   "metadata": {},
   "source": [
    "Helper function to read the already generated Dataset."
   ]
  },
  {
   "cell_type": "code",
   "execution_count": 16,
   "metadata": {},
   "outputs": [],
   "source": [
    "def read():\n",
    "    Xs = []\n",
    "    ys = []\n",
    "    for i in range(n_blocks):\n",
    "        xx = dd.read_parquet(f\"data_02/X-{i}.parq/\")\n",
    "        yy = dd.read_parquet(f\"data_02/y-{i}.parq/\")\n",
    "        shapes = [j - i for i, j in zip(xx.divisions, xx.divisions[1:])]\n",
    "        shapes[-1] += 1\n",
    "\n",
    "        x = [da.from_delayed(chunk.values, shape=(shapes[i], 20), dtype='f8')\n",
    "                             for i, chunk in enumerate(xx.to_delayed())]\n",
    "        y = [da.from_delayed(chunk.values, shape=(shapes[i], 1), dtype='f8')\n",
    "                             for i, chunk in enumerate(yy.to_delayed())]\n",
    "        Xs.append(da.concatenate(x, axis=0).rechunk((500_000, 20)))\n",
    "        ys.append(da.concatenate(y, axis=0).rechunk((500_000, 1)))\n",
    "    return da.concatenate(Xs, axis=0), da.concatenate(ys, axis=0).squeeze()"
   ]
  },
  {
   "cell_type": "markdown",
   "metadata": {},
   "source": [
    "### Data Loading"
   ]
  },
  {
   "cell_type": "code",
   "execution_count": 18,
   "metadata": {},
   "outputs": [],
   "source": [
    "X, y = read()"
   ]
  },
  {
   "cell_type": "code",
   "execution_count": 22,
   "metadata": {},
   "outputs": [
    {
     "data": {
      "text/plain": [
       "dask.array<concatenate, shape=(100000000, 20), dtype=float64, chunksize=(500000, 20)>"
      ]
     },
     "metadata": {},
     "output_type": "display_data"
    },
    {
     "data": {
      "text/plain": [
       "dask.array<squeeze, shape=(100000000,), dtype=float64, chunksize=(500000,)>"
      ]
     },
     "metadata": {},
     "output_type": "display_data"
    },
    {
     "data": {
      "text/plain": [
       "16.8"
      ]
     },
     "execution_count": 22,
     "metadata": {},
     "output_type": "execute_result"
    }
   ],
   "source": [
    "display(X)\n",
    "display(y)\n",
    "(X.nbytes + y.nbytes) / 10**9"
   ]
  },
  {
   "cell_type": "markdown",
   "metadata": {},
   "source": [
    "In total, we'll be fitting the model on about 17 GB of data (100,000,000 rows by 20 columns), all floats. My laptop has 16 GB of RAM, so it'd be impossible to do this in main memory alone.\n",
    "\n",
    "To demonstrate the idea, we'll have a small pipeline\n",
    "\n",
    "1. Scale the features by mean and variance\n",
    "2. Fit an `SGDClassifer`\n",
    "\n",
    "I've implemented a `daskml.preprocessing.StandardScaler`, using `dask`, in about 40 lines of code. This will operate completely in parallel.\n",
    "\n",
    "I haven't implemented a custom `SGDClassifier`, because that'd be *much* more than 40 lines of code. I have a small wrapper that will use scikit-learn's implementation to provide fit method that operates out-of-core, but not in parallel."
   ]
  },
  {
   "cell_type": "code",
   "execution_count": 24,
   "metadata": {},
   "outputs": [
    {
     "name": "stdout",
     "output_type": "stream",
     "text": [
      "CPU times: user 2min 48s, sys: 1min 29s, total: 4min 18s\n",
      "Wall time: 2min 38s\n"
     ]
    }
   ],
   "source": [
    "%%time\n",
    "rp = ResourceProfiler()\n",
    "p = Profiler()\n",
    "\n",
    "pipe = make_pipeline(\n",
    "    StandardScaler(),\n",
    "    PartialSGDClassifier(classes=[0, 1], max_iter=1000, tol=1e-3, random_state=2),\n",
    ")\n",
    "\n",
    "with p, rp:\n",
    "    pipe.fit(X, y)"
   ]
  },
  {
   "cell_type": "code",
   "execution_count": 28,
   "metadata": {},
   "outputs": [
    {
     "data": {
      "text/html": [
       "<div style=\"display: table;\"><div style=\"display: table-row;\"><div style=\"display: table-cell;\"><b title=\"bokeh.plotting.figure.Figure\">Figure</b>(</div><div style=\"display: table-cell;\">id&nbsp;=&nbsp;'d803a46b-b72a-4c54-8a95-3a19522b1216', <span id=\"9ae06ea3-ab43-4d64-a209-ec3f0bb11969\" style=\"cursor: pointer;\">&hellip;)</span></div></div><div class=\"7dae7434-6f87-4f0e-b3f3-99ac3363f78c\" style=\"display: none;\"><div style=\"display: table-cell;\"></div><div style=\"display: table-cell;\">above&nbsp;=&nbsp;[],</div></div><div class=\"7dae7434-6f87-4f0e-b3f3-99ac3363f78c\" style=\"display: none;\"><div style=\"display: table-cell;\"></div><div style=\"display: table-cell;\">aspect_scale&nbsp;=&nbsp;1,</div></div><div class=\"7dae7434-6f87-4f0e-b3f3-99ac3363f78c\" style=\"display: none;\"><div style=\"display: table-cell;\"></div><div style=\"display: table-cell;\">background_fill_alpha&nbsp;=&nbsp;{'value': 1.0},</div></div><div class=\"7dae7434-6f87-4f0e-b3f3-99ac3363f78c\" style=\"display: none;\"><div style=\"display: table-cell;\"></div><div style=\"display: table-cell;\">background_fill_color&nbsp;=&nbsp;{'value': '#ffffff'},</div></div><div class=\"7dae7434-6f87-4f0e-b3f3-99ac3363f78c\" style=\"display: none;\"><div style=\"display: table-cell;\"></div><div style=\"display: table-cell;\">below&nbsp;=&nbsp;[LinearAxis(id='767e2277-3f6e-4c24-9723-d5f37c0459de', ...)],</div></div><div class=\"7dae7434-6f87-4f0e-b3f3-99ac3363f78c\" style=\"display: none;\"><div style=\"display: table-cell;\"></div><div style=\"display: table-cell;\">border_fill_alpha&nbsp;=&nbsp;{'value': 1.0},</div></div><div class=\"7dae7434-6f87-4f0e-b3f3-99ac3363f78c\" style=\"display: none;\"><div style=\"display: table-cell;\"></div><div style=\"display: table-cell;\">border_fill_color&nbsp;=&nbsp;{'value': '#ffffff'},</div></div><div class=\"7dae7434-6f87-4f0e-b3f3-99ac3363f78c\" style=\"display: none;\"><div style=\"display: table-cell;\"></div><div style=\"display: table-cell;\">css_classes&nbsp;=&nbsp;None,</div></div><div class=\"7dae7434-6f87-4f0e-b3f3-99ac3363f78c\" style=\"display: none;\"><div style=\"display: table-cell;\"></div><div style=\"display: table-cell;\">disabled&nbsp;=&nbsp;False,</div></div><div class=\"7dae7434-6f87-4f0e-b3f3-99ac3363f78c\" style=\"display: none;\"><div style=\"display: table-cell;\"></div><div style=\"display: table-cell;\">extra_x_ranges&nbsp;=&nbsp;{},</div></div><div class=\"7dae7434-6f87-4f0e-b3f3-99ac3363f78c\" style=\"display: none;\"><div style=\"display: table-cell;\"></div><div style=\"display: table-cell;\">extra_y_ranges&nbsp;=&nbsp;{},</div></div><div class=\"7dae7434-6f87-4f0e-b3f3-99ac3363f78c\" style=\"display: none;\"><div style=\"display: table-cell;\"></div><div style=\"display: table-cell;\">h_symmetry&nbsp;=&nbsp;True,</div></div><div class=\"7dae7434-6f87-4f0e-b3f3-99ac3363f78c\" style=\"display: none;\"><div style=\"display: table-cell;\"></div><div style=\"display: table-cell;\">height&nbsp;=&nbsp;None,</div></div><div class=\"7dae7434-6f87-4f0e-b3f3-99ac3363f78c\" style=\"display: none;\"><div style=\"display: table-cell;\"></div><div style=\"display: table-cell;\">hidpi&nbsp;=&nbsp;True,</div></div><div class=\"7dae7434-6f87-4f0e-b3f3-99ac3363f78c\" style=\"display: none;\"><div style=\"display: table-cell;\"></div><div style=\"display: table-cell;\">js_event_callbacks&nbsp;=&nbsp;{},</div></div><div class=\"7dae7434-6f87-4f0e-b3f3-99ac3363f78c\" style=\"display: none;\"><div style=\"display: table-cell;\"></div><div style=\"display: table-cell;\">js_property_callbacks&nbsp;=&nbsp;{},</div></div><div class=\"7dae7434-6f87-4f0e-b3f3-99ac3363f78c\" style=\"display: none;\"><div style=\"display: table-cell;\"></div><div style=\"display: table-cell;\">left&nbsp;=&nbsp;[CategoricalAxis(id='11ec0f1f-24c6-4210-9023-bd576f543f86', ...)],</div></div><div class=\"7dae7434-6f87-4f0e-b3f3-99ac3363f78c\" style=\"display: none;\"><div style=\"display: table-cell;\"></div><div style=\"display: table-cell;\">lod_factor&nbsp;=&nbsp;10,</div></div><div class=\"7dae7434-6f87-4f0e-b3f3-99ac3363f78c\" style=\"display: none;\"><div style=\"display: table-cell;\"></div><div style=\"display: table-cell;\">lod_interval&nbsp;=&nbsp;300,</div></div><div class=\"7dae7434-6f87-4f0e-b3f3-99ac3363f78c\" style=\"display: none;\"><div style=\"display: table-cell;\"></div><div style=\"display: table-cell;\">lod_threshold&nbsp;=&nbsp;2000,</div></div><div class=\"7dae7434-6f87-4f0e-b3f3-99ac3363f78c\" style=\"display: none;\"><div style=\"display: table-cell;\"></div><div style=\"display: table-cell;\">lod_timeout&nbsp;=&nbsp;500,</div></div><div class=\"7dae7434-6f87-4f0e-b3f3-99ac3363f78c\" style=\"display: none;\"><div style=\"display: table-cell;\"></div><div style=\"display: table-cell;\">match_aspect&nbsp;=&nbsp;False,</div></div><div class=\"7dae7434-6f87-4f0e-b3f3-99ac3363f78c\" style=\"display: none;\"><div style=\"display: table-cell;\"></div><div style=\"display: table-cell;\">min_border&nbsp;=&nbsp;5,</div></div><div class=\"7dae7434-6f87-4f0e-b3f3-99ac3363f78c\" style=\"display: none;\"><div style=\"display: table-cell;\"></div><div style=\"display: table-cell;\">min_border_bottom&nbsp;=&nbsp;None,</div></div><div class=\"7dae7434-6f87-4f0e-b3f3-99ac3363f78c\" style=\"display: none;\"><div style=\"display: table-cell;\"></div><div style=\"display: table-cell;\">min_border_left&nbsp;=&nbsp;None,</div></div><div class=\"7dae7434-6f87-4f0e-b3f3-99ac3363f78c\" style=\"display: none;\"><div style=\"display: table-cell;\"></div><div style=\"display: table-cell;\">min_border_right&nbsp;=&nbsp;None,</div></div><div class=\"7dae7434-6f87-4f0e-b3f3-99ac3363f78c\" style=\"display: none;\"><div style=\"display: table-cell;\"></div><div style=\"display: table-cell;\">min_border_top&nbsp;=&nbsp;None,</div></div><div class=\"7dae7434-6f87-4f0e-b3f3-99ac3363f78c\" style=\"display: none;\"><div style=\"display: table-cell;\"></div><div style=\"display: table-cell;\">name&nbsp;=&nbsp;None,</div></div><div class=\"7dae7434-6f87-4f0e-b3f3-99ac3363f78c\" style=\"display: none;\"><div style=\"display: table-cell;\"></div><div style=\"display: table-cell;\">outline_line_alpha&nbsp;=&nbsp;{'value': 1.0},</div></div><div class=\"7dae7434-6f87-4f0e-b3f3-99ac3363f78c\" style=\"display: none;\"><div style=\"display: table-cell;\"></div><div style=\"display: table-cell;\">outline_line_cap&nbsp;=&nbsp;'butt',</div></div><div class=\"7dae7434-6f87-4f0e-b3f3-99ac3363f78c\" style=\"display: none;\"><div style=\"display: table-cell;\"></div><div style=\"display: table-cell;\">outline_line_color&nbsp;=&nbsp;{'value': '#e5e5e5'},</div></div><div class=\"7dae7434-6f87-4f0e-b3f3-99ac3363f78c\" style=\"display: none;\"><div style=\"display: table-cell;\"></div><div style=\"display: table-cell;\">outline_line_dash&nbsp;=&nbsp;[],</div></div><div class=\"7dae7434-6f87-4f0e-b3f3-99ac3363f78c\" style=\"display: none;\"><div style=\"display: table-cell;\"></div><div style=\"display: table-cell;\">outline_line_dash_offset&nbsp;=&nbsp;0,</div></div><div class=\"7dae7434-6f87-4f0e-b3f3-99ac3363f78c\" style=\"display: none;\"><div style=\"display: table-cell;\"></div><div style=\"display: table-cell;\">outline_line_join&nbsp;=&nbsp;'miter',</div></div><div class=\"7dae7434-6f87-4f0e-b3f3-99ac3363f78c\" style=\"display: none;\"><div style=\"display: table-cell;\"></div><div style=\"display: table-cell;\">outline_line_width&nbsp;=&nbsp;{'value': 1},</div></div><div class=\"7dae7434-6f87-4f0e-b3f3-99ac3363f78c\" style=\"display: none;\"><div style=\"display: table-cell;\"></div><div style=\"display: table-cell;\">output_backend&nbsp;=&nbsp;'canvas',</div></div><div class=\"7dae7434-6f87-4f0e-b3f3-99ac3363f78c\" style=\"display: none;\"><div style=\"display: table-cell;\"></div><div style=\"display: table-cell;\">plot_height&nbsp;=&nbsp;300,</div></div><div class=\"7dae7434-6f87-4f0e-b3f3-99ac3363f78c\" style=\"display: none;\"><div style=\"display: table-cell;\"></div><div style=\"display: table-cell;\">plot_width&nbsp;=&nbsp;800,</div></div><div class=\"7dae7434-6f87-4f0e-b3f3-99ac3363f78c\" style=\"display: none;\"><div style=\"display: table-cell;\"></div><div style=\"display: table-cell;\">renderers&nbsp;=&nbsp;[LinearAxis(id='767e2277-3f6e-4c24-9723-d5f37c0459de', ...), Grid(id='b3761bf8-21c8-4c74-8ea5-62a95e5d2cd6', ...), CategoricalAxis(id='11ec0f1f-24c6-4210-9023-bd576f543f86', ...), Grid(id='a2232e13-534f-4a71-9717-de9996501e0d', ...), GlyphRenderer(id='1e1da2d7-a495-45d0-b35d-78a036a39fc7', ...)],</div></div><div class=\"7dae7434-6f87-4f0e-b3f3-99ac3363f78c\" style=\"display: none;\"><div style=\"display: table-cell;\"></div><div style=\"display: table-cell;\">right&nbsp;=&nbsp;[],</div></div><div class=\"7dae7434-6f87-4f0e-b3f3-99ac3363f78c\" style=\"display: none;\"><div style=\"display: table-cell;\"></div><div style=\"display: table-cell;\">sizing_mode&nbsp;=&nbsp;'fixed',</div></div><div class=\"7dae7434-6f87-4f0e-b3f3-99ac3363f78c\" style=\"display: none;\"><div style=\"display: table-cell;\"></div><div style=\"display: table-cell;\">subscribed_events&nbsp;=&nbsp;[],</div></div><div class=\"7dae7434-6f87-4f0e-b3f3-99ac3363f78c\" style=\"display: none;\"><div style=\"display: table-cell;\"></div><div style=\"display: table-cell;\">tags&nbsp;=&nbsp;[],</div></div><div class=\"7dae7434-6f87-4f0e-b3f3-99ac3363f78c\" style=\"display: none;\"><div style=\"display: table-cell;\"></div><div style=\"display: table-cell;\">title&nbsp;=&nbsp;Title(id='d248cea8-0484-471b-b354-40737de492c3', ...),</div></div><div class=\"7dae7434-6f87-4f0e-b3f3-99ac3363f78c\" style=\"display: none;\"><div style=\"display: table-cell;\"></div><div style=\"display: table-cell;\">title_location&nbsp;=&nbsp;'above',</div></div><div class=\"7dae7434-6f87-4f0e-b3f3-99ac3363f78c\" style=\"display: none;\"><div style=\"display: table-cell;\"></div><div style=\"display: table-cell;\">toolbar&nbsp;=&nbsp;Toolbar(id='d36527a4-ba61-4af0-9cc8-d135443f3043', ...),</div></div><div class=\"7dae7434-6f87-4f0e-b3f3-99ac3363f78c\" style=\"display: none;\"><div style=\"display: table-cell;\"></div><div style=\"display: table-cell;\">toolbar_location&nbsp;=&nbsp;'above',</div></div><div class=\"7dae7434-6f87-4f0e-b3f3-99ac3363f78c\" style=\"display: none;\"><div style=\"display: table-cell;\"></div><div style=\"display: table-cell;\">toolbar_sticky&nbsp;=&nbsp;True,</div></div><div class=\"7dae7434-6f87-4f0e-b3f3-99ac3363f78c\" style=\"display: none;\"><div style=\"display: table-cell;\"></div><div style=\"display: table-cell;\">v_symmetry&nbsp;=&nbsp;False,</div></div><div class=\"7dae7434-6f87-4f0e-b3f3-99ac3363f78c\" style=\"display: none;\"><div style=\"display: table-cell;\"></div><div style=\"display: table-cell;\">width&nbsp;=&nbsp;None,</div></div><div class=\"7dae7434-6f87-4f0e-b3f3-99ac3363f78c\" style=\"display: none;\"><div style=\"display: table-cell;\"></div><div style=\"display: table-cell;\">x_range&nbsp;=&nbsp;Range1d(id='e859c503-bcba-4f7b-8168-ec2313dce937', ...),</div></div><div class=\"7dae7434-6f87-4f0e-b3f3-99ac3363f78c\" style=\"display: none;\"><div style=\"display: table-cell;\"></div><div style=\"display: table-cell;\">x_scale&nbsp;=&nbsp;LinearScale(id='b686f877-ed56-407a-ad70-e207b2317c75', ...),</div></div><div class=\"7dae7434-6f87-4f0e-b3f3-99ac3363f78c\" style=\"display: none;\"><div style=\"display: table-cell;\"></div><div style=\"display: table-cell;\">y_range&nbsp;=&nbsp;FactorRange(id='3619de44-fd2d-4d21-be01-ca42b091f0ad', ...),</div></div><div class=\"7dae7434-6f87-4f0e-b3f3-99ac3363f78c\" style=\"display: none;\"><div style=\"display: table-cell;\"></div><div style=\"display: table-cell;\">y_scale&nbsp;=&nbsp;CategoricalScale(id='18f305fd-914c-4acd-a371-60d3c7e22a9b', ...))</div></div></div>\n",
       "<script>\n",
       "(function() {\n",
       "  var expanded = false;\n",
       "  var ellipsis = document.getElementById(\"9ae06ea3-ab43-4d64-a209-ec3f0bb11969\");\n",
       "  ellipsis.addEventListener(\"click\", function() {\n",
       "    var rows = document.getElementsByClassName(\"7dae7434-6f87-4f0e-b3f3-99ac3363f78c\");\n",
       "    for (var i = 0; i < rows.length; i++) {\n",
       "      var el = rows[i];\n",
       "      el.style.display = expanded ? \"none\" : \"table-row\";\n",
       "    }\n",
       "    ellipsis.innerHTML = expanded ? \"&hellip;)\" : \"&lsaquo;&lsaquo;&lsaquo;\";\n",
       "    expanded = !expanded;\n",
       "  });\n",
       "})();\n",
       "</script>\n"
      ],
      "text/plain": [
       "Figure(id='d803a46b-b72a-4c54-8a95-3a19522b1216', ...)"
      ]
     },
     "execution_count": 28,
     "metadata": {},
     "output_type": "execute_result"
    }
   ],
   "source": [
    "p.visualize()"
   ]
  },
  {
   "cell_type": "markdown",
   "metadata": {},
   "source": [
    "That graph shows the issue pretty well. We get good parallelism for reading from disk and computing the `StandardScaler`. But once we hit the final stage in the pipeline, which is calling `PartialSGDClassifier.partial_fit` a bunch of times, everything is serial."
   ]
  },
  {
   "cell_type": "markdown",
   "metadata": {},
   "source": [
    "Prediction is completely parallel."
   ]
  },
  {
   "cell_type": "code",
   "execution_count": 29,
   "metadata": {},
   "outputs": [
    {
     "name": "stdout",
     "output_type": "stream",
     "text": [
      "CPU times: user 18.9 ms, sys: 5.1 ms, total: 24 ms\n",
      "Wall time: 23.5 ms\n"
     ]
    }
   ],
   "source": [
    "%time predictions = pipe.predict(X)"
   ]
  },
  {
   "cell_type": "markdown",
   "metadata": {},
   "source": [
    "Well, dask is lazy so that did actually complete in 9 ms :)\n",
    "\n",
    "Let's write it to disk."
   ]
  },
  {
   "cell_type": "code",
   "execution_count": 31,
   "metadata": {},
   "outputs": [
    {
     "name": "stdout",
     "output_type": "stream",
     "text": [
      "CPU times: user 1min 2s, sys: 44.3 s, total: 1min 46s\n",
      "Wall time: 1min 7s\n"
     ]
    }
   ],
   "source": [
    "%%time\n",
    "\n",
    "with rp, p:\n",
    "    predictions.to_dask_dataframe(columns=['a']).to_parquet('predictions.parq')"
   ]
  },
  {
   "cell_type": "markdown",
   "metadata": {},
   "source": [
    "That's from disk, to prediction, and back to disk, for 16 GB in data in 40s, while using all 8 cores on my laptop."
   ]
  },
  {
   "cell_type": "code",
   "execution_count": 33,
   "metadata": {},
   "outputs": [
    {
     "data": {
      "text/html": [
       "<div style=\"display: table;\"><div style=\"display: table-row;\"><div style=\"display: table-cell;\"><b title=\"bokeh.plotting.figure.Figure\">Figure</b>(</div><div style=\"display: table-cell;\">id&nbsp;=&nbsp;'127f9663-419d-4fc6-9121-afef066cd0d0', <span id=\"2f5a66eb-8626-4bc0-99f2-293790875f3e\" style=\"cursor: pointer;\">&hellip;)</span></div></div><div class=\"d1061f59-79a5-4944-a6b0-0aa79f31e65d\" style=\"display: none;\"><div style=\"display: table-cell;\"></div><div style=\"display: table-cell;\">above&nbsp;=&nbsp;[],</div></div><div class=\"d1061f59-79a5-4944-a6b0-0aa79f31e65d\" style=\"display: none;\"><div style=\"display: table-cell;\"></div><div style=\"display: table-cell;\">aspect_scale&nbsp;=&nbsp;1,</div></div><div class=\"d1061f59-79a5-4944-a6b0-0aa79f31e65d\" style=\"display: none;\"><div style=\"display: table-cell;\"></div><div style=\"display: table-cell;\">background_fill_alpha&nbsp;=&nbsp;{'value': 1.0},</div></div><div class=\"d1061f59-79a5-4944-a6b0-0aa79f31e65d\" style=\"display: none;\"><div style=\"display: table-cell;\"></div><div style=\"display: table-cell;\">background_fill_color&nbsp;=&nbsp;{'value': '#ffffff'},</div></div><div class=\"d1061f59-79a5-4944-a6b0-0aa79f31e65d\" style=\"display: none;\"><div style=\"display: table-cell;\"></div><div style=\"display: table-cell;\">below&nbsp;=&nbsp;[LinearAxis(id='ae9d134a-a298-435c-bbf8-d03106278c95', ...)],</div></div><div class=\"d1061f59-79a5-4944-a6b0-0aa79f31e65d\" style=\"display: none;\"><div style=\"display: table-cell;\"></div><div style=\"display: table-cell;\">border_fill_alpha&nbsp;=&nbsp;{'value': 1.0},</div></div><div class=\"d1061f59-79a5-4944-a6b0-0aa79f31e65d\" style=\"display: none;\"><div style=\"display: table-cell;\"></div><div style=\"display: table-cell;\">border_fill_color&nbsp;=&nbsp;{'value': '#ffffff'},</div></div><div class=\"d1061f59-79a5-4944-a6b0-0aa79f31e65d\" style=\"display: none;\"><div style=\"display: table-cell;\"></div><div style=\"display: table-cell;\">css_classes&nbsp;=&nbsp;None,</div></div><div class=\"d1061f59-79a5-4944-a6b0-0aa79f31e65d\" style=\"display: none;\"><div style=\"display: table-cell;\"></div><div style=\"display: table-cell;\">disabled&nbsp;=&nbsp;False,</div></div><div class=\"d1061f59-79a5-4944-a6b0-0aa79f31e65d\" style=\"display: none;\"><div style=\"display: table-cell;\"></div><div style=\"display: table-cell;\">extra_x_ranges&nbsp;=&nbsp;{},</div></div><div class=\"d1061f59-79a5-4944-a6b0-0aa79f31e65d\" style=\"display: none;\"><div style=\"display: table-cell;\"></div><div style=\"display: table-cell;\">extra_y_ranges&nbsp;=&nbsp;{},</div></div><div class=\"d1061f59-79a5-4944-a6b0-0aa79f31e65d\" style=\"display: none;\"><div style=\"display: table-cell;\"></div><div style=\"display: table-cell;\">h_symmetry&nbsp;=&nbsp;True,</div></div><div class=\"d1061f59-79a5-4944-a6b0-0aa79f31e65d\" style=\"display: none;\"><div style=\"display: table-cell;\"></div><div style=\"display: table-cell;\">height&nbsp;=&nbsp;None,</div></div><div class=\"d1061f59-79a5-4944-a6b0-0aa79f31e65d\" style=\"display: none;\"><div style=\"display: table-cell;\"></div><div style=\"display: table-cell;\">hidpi&nbsp;=&nbsp;True,</div></div><div class=\"d1061f59-79a5-4944-a6b0-0aa79f31e65d\" style=\"display: none;\"><div style=\"display: table-cell;\"></div><div style=\"display: table-cell;\">js_event_callbacks&nbsp;=&nbsp;{},</div></div><div class=\"d1061f59-79a5-4944-a6b0-0aa79f31e65d\" style=\"display: none;\"><div style=\"display: table-cell;\"></div><div style=\"display: table-cell;\">js_property_callbacks&nbsp;=&nbsp;{},</div></div><div class=\"d1061f59-79a5-4944-a6b0-0aa79f31e65d\" style=\"display: none;\"><div style=\"display: table-cell;\"></div><div style=\"display: table-cell;\">left&nbsp;=&nbsp;[CategoricalAxis(id='3af8b6fa-50a1-4aca-aa79-556ae7303549', ...)],</div></div><div class=\"d1061f59-79a5-4944-a6b0-0aa79f31e65d\" style=\"display: none;\"><div style=\"display: table-cell;\"></div><div style=\"display: table-cell;\">lod_factor&nbsp;=&nbsp;10,</div></div><div class=\"d1061f59-79a5-4944-a6b0-0aa79f31e65d\" style=\"display: none;\"><div style=\"display: table-cell;\"></div><div style=\"display: table-cell;\">lod_interval&nbsp;=&nbsp;300,</div></div><div class=\"d1061f59-79a5-4944-a6b0-0aa79f31e65d\" style=\"display: none;\"><div style=\"display: table-cell;\"></div><div style=\"display: table-cell;\">lod_threshold&nbsp;=&nbsp;2000,</div></div><div class=\"d1061f59-79a5-4944-a6b0-0aa79f31e65d\" style=\"display: none;\"><div style=\"display: table-cell;\"></div><div style=\"display: table-cell;\">lod_timeout&nbsp;=&nbsp;500,</div></div><div class=\"d1061f59-79a5-4944-a6b0-0aa79f31e65d\" style=\"display: none;\"><div style=\"display: table-cell;\"></div><div style=\"display: table-cell;\">match_aspect&nbsp;=&nbsp;False,</div></div><div class=\"d1061f59-79a5-4944-a6b0-0aa79f31e65d\" style=\"display: none;\"><div style=\"display: table-cell;\"></div><div style=\"display: table-cell;\">min_border&nbsp;=&nbsp;5,</div></div><div class=\"d1061f59-79a5-4944-a6b0-0aa79f31e65d\" style=\"display: none;\"><div style=\"display: table-cell;\"></div><div style=\"display: table-cell;\">min_border_bottom&nbsp;=&nbsp;None,</div></div><div class=\"d1061f59-79a5-4944-a6b0-0aa79f31e65d\" style=\"display: none;\"><div style=\"display: table-cell;\"></div><div style=\"display: table-cell;\">min_border_left&nbsp;=&nbsp;None,</div></div><div class=\"d1061f59-79a5-4944-a6b0-0aa79f31e65d\" style=\"display: none;\"><div style=\"display: table-cell;\"></div><div style=\"display: table-cell;\">min_border_right&nbsp;=&nbsp;None,</div></div><div class=\"d1061f59-79a5-4944-a6b0-0aa79f31e65d\" style=\"display: none;\"><div style=\"display: table-cell;\"></div><div style=\"display: table-cell;\">min_border_top&nbsp;=&nbsp;None,</div></div><div class=\"d1061f59-79a5-4944-a6b0-0aa79f31e65d\" style=\"display: none;\"><div style=\"display: table-cell;\"></div><div style=\"display: table-cell;\">name&nbsp;=&nbsp;None,</div></div><div class=\"d1061f59-79a5-4944-a6b0-0aa79f31e65d\" style=\"display: none;\"><div style=\"display: table-cell;\"></div><div style=\"display: table-cell;\">outline_line_alpha&nbsp;=&nbsp;{'value': 1.0},</div></div><div class=\"d1061f59-79a5-4944-a6b0-0aa79f31e65d\" style=\"display: none;\"><div style=\"display: table-cell;\"></div><div style=\"display: table-cell;\">outline_line_cap&nbsp;=&nbsp;'butt',</div></div><div class=\"d1061f59-79a5-4944-a6b0-0aa79f31e65d\" style=\"display: none;\"><div style=\"display: table-cell;\"></div><div style=\"display: table-cell;\">outline_line_color&nbsp;=&nbsp;{'value': '#e5e5e5'},</div></div><div class=\"d1061f59-79a5-4944-a6b0-0aa79f31e65d\" style=\"display: none;\"><div style=\"display: table-cell;\"></div><div style=\"display: table-cell;\">outline_line_dash&nbsp;=&nbsp;[],</div></div><div class=\"d1061f59-79a5-4944-a6b0-0aa79f31e65d\" style=\"display: none;\"><div style=\"display: table-cell;\"></div><div style=\"display: table-cell;\">outline_line_dash_offset&nbsp;=&nbsp;0,</div></div><div class=\"d1061f59-79a5-4944-a6b0-0aa79f31e65d\" style=\"display: none;\"><div style=\"display: table-cell;\"></div><div style=\"display: table-cell;\">outline_line_join&nbsp;=&nbsp;'miter',</div></div><div class=\"d1061f59-79a5-4944-a6b0-0aa79f31e65d\" style=\"display: none;\"><div style=\"display: table-cell;\"></div><div style=\"display: table-cell;\">outline_line_width&nbsp;=&nbsp;{'value': 1},</div></div><div class=\"d1061f59-79a5-4944-a6b0-0aa79f31e65d\" style=\"display: none;\"><div style=\"display: table-cell;\"></div><div style=\"display: table-cell;\">output_backend&nbsp;=&nbsp;'canvas',</div></div><div class=\"d1061f59-79a5-4944-a6b0-0aa79f31e65d\" style=\"display: none;\"><div style=\"display: table-cell;\"></div><div style=\"display: table-cell;\">plot_height&nbsp;=&nbsp;300,</div></div><div class=\"d1061f59-79a5-4944-a6b0-0aa79f31e65d\" style=\"display: none;\"><div style=\"display: table-cell;\"></div><div style=\"display: table-cell;\">plot_width&nbsp;=&nbsp;800,</div></div><div class=\"d1061f59-79a5-4944-a6b0-0aa79f31e65d\" style=\"display: none;\"><div style=\"display: table-cell;\"></div><div style=\"display: table-cell;\">renderers&nbsp;=&nbsp;[LinearAxis(id='ae9d134a-a298-435c-bbf8-d03106278c95', ...), Grid(id='b08f9ab2-9355-4e55-927b-7928116ec448', ...), CategoricalAxis(id='3af8b6fa-50a1-4aca-aa79-556ae7303549', ...), Grid(id='60ff3270-2290-4a35-ac4b-b59379e3c782', ...), GlyphRenderer(id='1ea93328-417e-4dd0-89e7-a62465f3d64e', ...)],</div></div><div class=\"d1061f59-79a5-4944-a6b0-0aa79f31e65d\" style=\"display: none;\"><div style=\"display: table-cell;\"></div><div style=\"display: table-cell;\">right&nbsp;=&nbsp;[],</div></div><div class=\"d1061f59-79a5-4944-a6b0-0aa79f31e65d\" style=\"display: none;\"><div style=\"display: table-cell;\"></div><div style=\"display: table-cell;\">sizing_mode&nbsp;=&nbsp;'fixed',</div></div><div class=\"d1061f59-79a5-4944-a6b0-0aa79f31e65d\" style=\"display: none;\"><div style=\"display: table-cell;\"></div><div style=\"display: table-cell;\">subscribed_events&nbsp;=&nbsp;[],</div></div><div class=\"d1061f59-79a5-4944-a6b0-0aa79f31e65d\" style=\"display: none;\"><div style=\"display: table-cell;\"></div><div style=\"display: table-cell;\">tags&nbsp;=&nbsp;[],</div></div><div class=\"d1061f59-79a5-4944-a6b0-0aa79f31e65d\" style=\"display: none;\"><div style=\"display: table-cell;\"></div><div style=\"display: table-cell;\">title&nbsp;=&nbsp;Title(id='8af7d974-f040-4e89-99f1-30e187249ff9', ...),</div></div><div class=\"d1061f59-79a5-4944-a6b0-0aa79f31e65d\" style=\"display: none;\"><div style=\"display: table-cell;\"></div><div style=\"display: table-cell;\">title_location&nbsp;=&nbsp;'above',</div></div><div class=\"d1061f59-79a5-4944-a6b0-0aa79f31e65d\" style=\"display: none;\"><div style=\"display: table-cell;\"></div><div style=\"display: table-cell;\">toolbar&nbsp;=&nbsp;Toolbar(id='5e1b49d3-c664-4646-a25c-661958edfd28', ...),</div></div><div class=\"d1061f59-79a5-4944-a6b0-0aa79f31e65d\" style=\"display: none;\"><div style=\"display: table-cell;\"></div><div style=\"display: table-cell;\">toolbar_location&nbsp;=&nbsp;'above',</div></div><div class=\"d1061f59-79a5-4944-a6b0-0aa79f31e65d\" style=\"display: none;\"><div style=\"display: table-cell;\"></div><div style=\"display: table-cell;\">toolbar_sticky&nbsp;=&nbsp;True,</div></div><div class=\"d1061f59-79a5-4944-a6b0-0aa79f31e65d\" style=\"display: none;\"><div style=\"display: table-cell;\"></div><div style=\"display: table-cell;\">v_symmetry&nbsp;=&nbsp;False,</div></div><div class=\"d1061f59-79a5-4944-a6b0-0aa79f31e65d\" style=\"display: none;\"><div style=\"display: table-cell;\"></div><div style=\"display: table-cell;\">width&nbsp;=&nbsp;None,</div></div><div class=\"d1061f59-79a5-4944-a6b0-0aa79f31e65d\" style=\"display: none;\"><div style=\"display: table-cell;\"></div><div style=\"display: table-cell;\">x_range&nbsp;=&nbsp;Range1d(id='4b66de06-6aae-4bee-a656-e88a825fd500', ...),</div></div><div class=\"d1061f59-79a5-4944-a6b0-0aa79f31e65d\" style=\"display: none;\"><div style=\"display: table-cell;\"></div><div style=\"display: table-cell;\">x_scale&nbsp;=&nbsp;LinearScale(id='b237a7e2-9010-455f-8497-31ce9f34100c', ...),</div></div><div class=\"d1061f59-79a5-4944-a6b0-0aa79f31e65d\" style=\"display: none;\"><div style=\"display: table-cell;\"></div><div style=\"display: table-cell;\">y_range&nbsp;=&nbsp;FactorRange(id='cac70aa5-1be4-4ffc-97d8-9b203e80bef8', ...),</div></div><div class=\"d1061f59-79a5-4944-a6b0-0aa79f31e65d\" style=\"display: none;\"><div style=\"display: table-cell;\"></div><div style=\"display: table-cell;\">y_scale&nbsp;=&nbsp;CategoricalScale(id='13e1247f-f064-49a9-8bdb-fb4a757c2ed6', ...))</div></div></div>\n",
       "<script>\n",
       "(function() {\n",
       "  var expanded = false;\n",
       "  var ellipsis = document.getElementById(\"2f5a66eb-8626-4bc0-99f2-293790875f3e\");\n",
       "  ellipsis.addEventListener(\"click\", function() {\n",
       "    var rows = document.getElementsByClassName(\"d1061f59-79a5-4944-a6b0-0aa79f31e65d\");\n",
       "    for (var i = 0; i < rows.length; i++) {\n",
       "      var el = rows[i];\n",
       "      el.style.display = expanded ? \"none\" : \"table-row\";\n",
       "    }\n",
       "    ellipsis.innerHTML = expanded ? \"&hellip;)\" : \"&lsaquo;&lsaquo;&lsaquo;\";\n",
       "    expanded = !expanded;\n",
       "  });\n",
       "})();\n",
       "</script>\n"
      ],
      "text/plain": [
       "Figure(id='127f9663-419d-4fc6-9121-afef066cd0d0', ...)"
      ]
     },
     "execution_count": 33,
     "metadata": {},
     "output_type": "execute_result"
    }
   ],
   "source": [
    "p.visualize()"
   ]
  }
 ],
 "metadata": {
  "kernelspec": {
   "display_name": "Python 3",
   "language": "python",
   "name": "python3"
  },
  "language_info": {
   "codemirror_mode": {
    "name": "ipython",
    "version": 3
   },
   "file_extension": ".py",
   "mimetype": "text/x-python",
   "name": "python",
   "nbconvert_exporter": "python",
   "pygments_lexer": "ipython3",
   "version": "3.6.3"
  },
  "toc": {
   "nav_menu": {},
   "number_sections": true,
   "sideBar": true,
   "skip_h1_title": false,
   "toc_cell": false,
   "toc_position": {},
   "toc_section_display": "block",
   "toc_window_display": false
  },
  "varInspector": {
   "cols": {
    "lenName": 16,
    "lenType": 16,
    "lenVar": 40
   },
   "kernels_config": {
    "python": {
     "delete_cmd_postfix": "",
     "delete_cmd_prefix": "del ",
     "library": "var_list.py",
     "varRefreshCmd": "print(var_dic_list())"
    },
    "r": {
     "delete_cmd_postfix": ") ",
     "delete_cmd_prefix": "rm(",
     "library": "var_list.r",
     "varRefreshCmd": "cat(var_dic_list()) "
    }
   },
   "types_to_exclude": [
    "module",
    "function",
    "builtin_function_or_method",
    "instance",
    "_Feature"
   ],
   "window_display": false
  }
 },
 "nbformat": 4,
 "nbformat_minor": 2
}
